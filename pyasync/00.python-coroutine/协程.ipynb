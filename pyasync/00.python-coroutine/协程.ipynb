{
 "cells": [
  {
   "cell_type": "markdown",
   "metadata": {
    "tags": []
   },
   "source": [
    "Python中的协程大概经历了如下三个阶段：\n",
    "1. 最初的生成器变形yield/send\n",
    "2. 引入@asyncio.coroutine和yield from\n",
    "3. 在最近的Python3.5版本中引入async/await关键字"
   ]
  },
  {
   "cell_type": "markdown",
   "metadata": {},
   "source": [
    "### 一 生成器变形yield/send\n",
    "\n",
    "普通函数中如果出现了yield关键字，那么该函数就不再是普通函数，而是一个生成器。"
   ]
  },
  {
   "cell_type": "code",
   "execution_count": 2,
   "metadata": {},
   "outputs": [],
   "source": [
    "def mygen(alist):\n",
    "    while len(alist) > 0:\n",
    "        c = randint(0, len(alist)-1)\n",
    "        yield alist.pop(c)\n",
    "\n",
    "a = [\"aa\",\"bb\",\"cc\"]"
   ]
  },
  {
   "cell_type": "code",
   "execution_count": 4,
   "metadata": {},
   "outputs": [
    {
     "name": "stdout",
     "output_type": "stream",
     "text": [
      "<generator object mygen at 0x7fb7e83bc890>\n"
     ]
    }
   ],
   "source": [
    "c = mygen(a)\n",
    "print(c)"
   ]
  },
  {
   "cell_type": "markdown",
   "metadata": {},
   "source": [
    "像上面代码中的c就是一个生成器。生成器就是一种迭代器，可以使用for进行迭代。生成器函数最大的特点是可以接受外部传入的一个变量，并根据变量内容计算结果后返回。\n",
    "这一切都是靠生成器内部的send()函数实现的。"
   ]
  },
  {
   "cell_type": "code",
   "execution_count": 5,
   "metadata": {},
   "outputs": [
    {
     "name": "stdout",
     "output_type": "stream",
     "text": [
      "0\n",
      "got: hello\n",
      "got: 123456\n"
     ]
    },
    {
     "ename": "StopIteration",
     "evalue": "",
     "output_type": "error",
     "traceback": [
      "\u001b[0;31m---------------------------------------------------------------------------\u001b[0m",
      "\u001b[0;31mStopIteration\u001b[0m                             Traceback (most recent call last)",
      "\u001b[0;32m/tmp/ipykernel_398983/1187336163.py\u001b[0m in \u001b[0;36m<module>\u001b[0;34m\u001b[0m\n\u001b[1;32m     11\u001b[0m \u001b[0mprint\u001b[0m\u001b[0;34m(\u001b[0m\u001b[0mg\u001b[0m\u001b[0;34m.\u001b[0m\u001b[0msend\u001b[0m\u001b[0;34m(\u001b[0m\u001b[0;34m'hello'\u001b[0m\u001b[0;34m)\u001b[0m\u001b[0;34m)\u001b[0m\u001b[0;34m\u001b[0m\u001b[0;34m\u001b[0m\u001b[0m\n\u001b[1;32m     12\u001b[0m \u001b[0mprint\u001b[0m\u001b[0;34m(\u001b[0m\u001b[0mg\u001b[0m\u001b[0;34m.\u001b[0m\u001b[0msend\u001b[0m\u001b[0;34m(\u001b[0m\u001b[0;36m123456\u001b[0m\u001b[0;34m)\u001b[0m\u001b[0;34m)\u001b[0m\u001b[0;34m\u001b[0m\u001b[0;34m\u001b[0m\u001b[0m\n\u001b[0;32m---> 13\u001b[0;31m \u001b[0mprint\u001b[0m\u001b[0;34m(\u001b[0m\u001b[0mg\u001b[0m\u001b[0;34m.\u001b[0m\u001b[0msend\u001b[0m\u001b[0;34m(\u001b[0m\u001b[0;34m'e'\u001b[0m\u001b[0;34m)\u001b[0m\u001b[0;34m)\u001b[0m\u001b[0;34m\u001b[0m\u001b[0;34m\u001b[0m\u001b[0m\n\u001b[0m",
      "\u001b[0;31mStopIteration\u001b[0m: "
     ]
    }
   ],
   "source": [
    "def gen():\n",
    "    value=0\n",
    "    while True:\n",
    "        receive=yield value\n",
    "        if receive=='e':\n",
    "            break\n",
    "        value = 'got: %s' % receive\n",
    "\n",
    "g=gen()\n",
    "print(g.send(None))    \n",
    "print(g.send('hello'))\n",
    "print(g.send(123456))\n",
    "print(g.send('e'))"
   ]
  },
  {
   "cell_type": "markdown",
   "metadata": {},
   "source": [
    "上面生成器函数中最关键也是最易理解错的，就是receive=yield value这句,如果对循环体的执行步骤理解错误，就会失之毫厘，差之千里。"
   ]
  },
  {
   "cell_type": "markdown",
   "metadata": {},
   "source": [
    "其实receive=yield value包含了3个步骤：\n",
    "1. 向函数外抛出（返回）value\n",
    "2. 暂停(pause)，等待next()或send()恢复\n",
    "3. 赋值receive=MockGetValue() 。 这个MockGetValue()是假想函数，用来接收send()发送进来的值"
   ]
  },
  {
   "cell_type": "markdown",
   "metadata": {},
   "source": [
    "执行流程：\n",
    "1. 通过`g.send(None)` 或者`next(g)` 启动生成器函数，并执行到第一个 yield 语句结束的位置。实际程序只执行了1，2两步，程序返回了 value 值，并暂停(pause)，并没有执行第3步给receive赋值。因此`yield value`会输出初始值0。这里要特别注意：在启动生成器函数时只能`send(None)`,如果试图输入其它的值都会得到错误提示信息。\n",
    "\n",
    "2. 通过`g.send('hello')`，会传入hello，从上次暂停的位置继续执行，那么就是运行第3步，赋值给receive。然后计算出value的值，并回到while头部，遇到yield value，程序再次执行了1，2两步，程序返回了value值，并暂停(pause)。此时yield value会输出”got: hello”，并等待send()激活。\n",
    "\n",
    "3. 通过g.send(123456)，会重复第2步，最后输出结果为”got: 123456″。\n",
    "\n",
    "4. 执行g.send(‘e’)时，程序会执行break然后推出循环，最后整个函数执行完毕，所以会得到StopIteration异常。\n",
    "\n",
    "从上面可以看出， 在第一次send(None)启动生成器（执行1–>2，通常第一次返回的值没有什么用）之后，对于外部的每一次send()，生成器的实际在循环中的运行顺序是3–>1–>2，也就是先获取值，然后dosomething，然后返回一个值，再暂停等待。\n"
   ]
  },
  {
   "cell_type": "markdown",
   "metadata": {},
   "source": [
    "### 二 yield from"
   ]
  },
  {
   "cell_type": "code",
   "execution_count": 6,
   "metadata": {},
   "outputs": [],
   "source": [
    "def g1():     \n",
    "     yield  range(5)\n",
    "        \n",
    "def g2():\n",
    "     yield  from range(5)"
   ]
  },
  {
   "cell_type": "code",
   "execution_count": 9,
   "metadata": {},
   "outputs": [
    {
     "name": "stdout",
     "output_type": "stream",
     "text": [
      "range(0, 5)\n",
      "---\n",
      "0\n",
      "1\n",
      "2\n",
      "3\n",
      "4\n"
     ]
    }
   ],
   "source": [
    "it1 = g1()\n",
    "it2 = g2()\n",
    "for x in it1:\n",
    "    print(x)\n",
    "\n",
    "print(\"---\")\n",
    "\n",
    "for x in it2:\n",
    "    print(x)"
   ]
  },
  {
   "cell_type": "markdown",
   "metadata": {},
   "source": [
    "yield将range这个可迭代对象直接返回了, 而yield from解析了range对象，将其中每一个item返回\n",
    "\n",
    "`yield from iterable` 本质上等于`for item in iterable: yield item` 的缩写版"
   ]
  },
  {
   "cell_type": "code",
   "execution_count": 15,
   "metadata": {},
   "outputs": [],
   "source": [
    "def fib(max_n):\n",
    "    n, a, b = 0, 0, 1\n",
    "    while n < max_n:\n",
    "        yield b\n",
    "        a, b = b, a + b\n",
    "        n = n + 1"
   ]
  },
  {
   "cell_type": "code",
   "execution_count": 16,
   "metadata": {},
   "outputs": [
    {
     "name": "stdout",
     "output_type": "stream",
     "text": [
      "start\n",
      "1 1 2 3 5 end\n"
     ]
    }
   ],
   "source": [
    "def f_wrapper(fun_iterable):\n",
    "    print('start')\n",
    "    for item in fun_iterable:\n",
    "        yield item\n",
    "    print('end')\n",
    "\n",
    "\n",
    "wrap = f_wrapper(fib(5))\n",
    "for i in wrap:\n",
    "    print(i, end=' ')"
   ]
  },
  {
   "cell_type": "code",
   "execution_count": 17,
   "metadata": {},
   "outputs": [
    {
     "name": "stdout",
     "output_type": "stream",
     "text": [
      "start\n",
      "1 1 2 3 5 end\n"
     ]
    }
   ],
   "source": [
    "def f_wrapper2(fun_iterable):\n",
    "    print('start')\n",
    "    yield from fun_iterable  # 注意此处必须是一个可生成对象\n",
    "    print('end')\n",
    "\n",
    "\n",
    "wrap = f_wrapper2(fib(5))\n",
    "for i in wrap:\n",
    "    print(i, end=' ')"
   ]
  },
  {
   "cell_type": "markdown",
   "metadata": {},
   "source": [
    "`yield from` 后面必须跟`iterable`对象(可以是生成器，迭代器)"
   ]
  },
  {
   "cell_type": "markdown",
   "metadata": {},
   "source": [
    "### 三 asyncio.coroutine和yield from"
   ]
  },
  {
   "cell_type": "markdown",
   "metadata": {},
   "source": [
    "yield from在asyncio模块中得以发扬光大。之前都是我们手工切换协程，现在当声明函数为协程后，我们通过事件循环来调度协程\n",
    "\n",
    "先看示例代码："
   ]
  },
  {
   "cell_type": "code",
   "execution_count": null,
   "metadata": {},
   "outputs": [],
   "source": [
    "import asyncio, random\n",
    "\n",
    "\n",
    "@asyncio.coroutine\n",
    "def smart_fib(n):\n",
    "    index = 0\n",
    "    a = 0\n",
    "    b = 1\n",
    "    while index < n:\n",
    "        sleep_secs = random.uniform(0, 0.2)\n",
    "        yield from asyncio.sleep(sleep_secs)  # 通常yield from后都是接的耗时操作\n",
    "        print('Smart one think {} secs to get {}'.format(sleep_secs, b))\n",
    "        a, b = b, a + b\n",
    "        index += 1\n",
    "\n",
    "\n",
    "@asyncio.coroutine\n",
    "def stupid_fib(n):\n",
    "    index = 0\n",
    "    a = 0\n",
    "    b = 1\n",
    "    while index < n:\n",
    "        sleep_secs = random.uniform(0, 0.4)\n",
    "        yield from asyncio.sleep(sleep_secs)  # 通常yield from后都是接的耗时操作\n",
    "        print('Stupid one think {} secs to get {}'.format(sleep_secs, b))\n",
    "        a, b = b, a + b\n",
    "        index += 1\n",
    "\n",
    "\n",
    "loop = asyncio.get_event_loop()\n",
    "tasks = [smart_fib(10), stupid_fib(10)]\n",
    "loop.run_until_complete(asyncio.wait(tasks))\n",
    "print('All fib finished.')\n",
    "loop.close()"
   ]
  },
  {
   "cell_type": "markdown",
   "metadata": {},
   "source": [
    "output:\n",
    "```\n",
    "Smart one think 0.026525109235243163 secs to get 1\n",
    "Smart one think 0.027785034767742744 secs to get 1\n",
    "Stupid one think 0.13037907715928085 secs to get 1\n",
    "Smart one think 0.11669741028096901 secs to get 2\n",
    "Stupid one think 0.04238196174869327 secs to get 1\n",
    "Stupid one think 0.11380284364243956 secs to get 2\n",
    "Smart one think 0.11769596813426297 secs to get 3\n",
    "Smart one think 0.17488528000457104 secs to get 5\n",
    "Smart one think 0.04971763086780401 secs to get 8\n",
    "Smart one think 0.05628655306689132 secs to get 13\n",
    "Stupid one think 0.38969300185314415 secs to get 3\n",
    "Smart one think 0.13572058551224658 secs to get 21\n",
    "Smart one think 0.10732171780502052 secs to get 34\n",
    "Stupid one think 0.18299519880414508 secs to get 5\n",
    "Stupid one think 0.09949915850652391 secs to get 8\n",
    "Smart one think 0.1512613986844706 secs to get 55\n",
    "Stupid one think 0.3493415169530308 secs to get 13\n",
    "Stupid one think 0.30437060390884557 secs to get 21\n",
    "Stupid one think 0.1070324128128287 secs to get 34\n",
    "Stupid one think 0.17135892434390954 secs to get 55\n",
    "All fib finished.\n",
    "```"
   ]
  },
  {
   "cell_type": "markdown",
   "metadata": {},
   "source": [
    "yield from语法可以让我们方便地调用另一个generator。\n",
    "本例中yield from后面接的asyncio.sleep()是一个coroutine(里面也用了yield from)，所以线程不会等待asyncio.sleep()，而是直接中断并执行下一个消息循环。当asyncio.sleep()返回时，线程就可以从yield from拿到返回值（此处是None），然后接着执行下一行语句。\n",
    "asyncio是一个基于事件循环的实现异步I/O的模块。通过yield from，我们可以将协程asyncio.sleep的控制权交给事件循环，然后挂起当前协程；之后，由事件循环决定何时唤醒asyncio.sleep,接着向后执行代码。\n",
    "协程之间的调度都是由事件循环决定。\n",
    "yield from asyncio.sleep(sleep_secs) 这里不能用time.sleep(1)因为time.sleep()返回的是None，它不是iterable，还记得前面说的yield from后面必须跟iterable对象(可以是生成器，迭代器)。\n",
    "所以会报错：\n",
    "> yield from time.sleep(sleep_secs) TypeError: ‘NoneType’ object is not iterable"
   ]
  },
  {
   "cell_type": "markdown",
   "metadata": {},
   "source": [
    "### 四 async和await"
   ]
  },
  {
   "cell_type": "markdown",
   "metadata": {},
   "source": [
    "弄清楚了asyncio.coroutine和yield from之后，在Python3.5中引入的async和await就不难理解了：可以将他们理解成asyncio.coroutine/yield from的完美替身。当然，从Python设计的角度来说，async/await让协程表面上独立于生成器而存在，将细节都隐藏于asyncio模块之下，语法更清晰明了。\n",
    "加入新的关键字 async ，可以将任何一个普通函数变成协程"
   ]
  },
  {
   "cell_type": "code",
   "execution_count": 28,
   "metadata": {},
   "outputs": [
    {
     "name": "stdout",
     "output_type": "stream",
     "text": [
      "<coroutine object mygen at 0x7fb7c4b37640>\n"
     ]
    }
   ],
   "source": [
    "import random\n",
    "import asyncio\n",
    "\n",
    "\n",
    "async def mygen(alist):\n",
    "    while len(alist) > 0:\n",
    "        c = random.randint(0, len(alist) - 1)\n",
    "        print(alist.pop(c))\n",
    "\n",
    "\n",
    "a = [\"aa\", \"bb\", \"cc\"]\n",
    "c = mygen(a)\n",
    "print(c)"
   ]
  },
  {
   "cell_type": "markdown",
   "metadata": {},
   "source": [
    "在上面程序中，我们在前面加上async，该函数就变成一个协程了。\n",
    "\n",
    "但是async对生成器是无效的。async无法将一个生成器转换成协程。\n",
    "还是刚才那段代码，我们把print改成yield"
   ]
  },
  {
   "cell_type": "code",
   "execution_count": 29,
   "metadata": {},
   "outputs": [
    {
     "name": "stdout",
     "output_type": "stream",
     "text": [
      "<async_generator object mygen at 0x7fb7f83638b0>\n"
     ]
    },
    {
     "name": "stderr",
     "output_type": "stream",
     "text": [
      "/tmp/ipykernel_398983/3512565305.py:8: RuntimeWarning: coroutine 'mygen' was never awaited\n",
      "  c = mygen(a)\n",
      "RuntimeWarning: Enable tracemalloc to get the object allocation traceback\n"
     ]
    }
   ],
   "source": [
    "async def mygen(alist):\n",
    "    while len(alist) > 0:\n",
    "        c = random.randint(0, len(alist) - 1)\n",
    "        yield alist.pop(c)\n",
    "\n",
    "\n",
    "a = [\"aa\", \"bb\", \"cc\"]\n",
    "c = mygen(a)\n",
    "print(c)"
   ]
  },
  {
   "cell_type": "markdown",
   "metadata": {},
   "source": [
    "可以看到输出\n",
    "\n",
    "<async_generator object mygen at 0x02AA7170>\n",
    "并不是coroutine 协程对象"
   ]
  },
  {
   "cell_type": "markdown",
   "metadata": {},
   "source": [
    "所以我们的协程代码应该是这样的,用事件循环运行协程"
   ]
  },
  {
   "cell_type": "code",
   "execution_count": null,
   "metadata": {},
   "outputs": [],
   "source": [
    "async def mygen(alist):\n",
    "    while len(alist) > 0:\n",
    "        c = random.randint(0, len(alist) - 1)\n",
    "        print(alist.pop(c))\n",
    "        await asyncio.sleep(1)\n",
    "\n",
    "\n",
    "async def main():\n",
    "    strlist = [\"ss\", \"dd\", \"gg\"]\n",
    "    intlist = [1, 2, 5, 6]\n",
    "    await asyncio.gather(\n",
    "        mygen(strlist), mygen(intlist)\n",
    "    )\n",
    "    print('All fib finished.')\n",
    "\n",
    "\n",
    "asyncio.run(main())"
   ]
  },
  {
   "cell_type": "markdown",
   "metadata": {},
   "source": [
    "output:\n",
    "```\n",
    "<coroutine object mygen at 0x7f870db4f3c0>\n",
    "dd\n",
    "1\n",
    "gg\n",
    "6\n",
    "ss\n",
    "5\n",
    "2\n",
    "All fib finished.\n",
    "```"
   ]
  }
 ],
 "metadata": {
  "kernelspec": {
   "display_name": "Python 3 (ipykernel)",
   "language": "python",
   "name": "python3"
  },
  "language_info": {
   "codemirror_mode": {
    "name": "ipython",
    "version": 3
   },
   "file_extension": ".py",
   "mimetype": "text/x-python",
   "name": "python",
   "nbconvert_exporter": "python",
   "pygments_lexer": "ipython3",
   "version": "3.8.8"
  },
  "toc-autonumbering": true
 },
 "nbformat": 4,
 "nbformat_minor": 4
}
